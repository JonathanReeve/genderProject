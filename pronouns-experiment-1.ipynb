{
 "cells": [
  {
   "cell_type": "code",
   "execution_count": 1,
   "metadata": {},
   "outputs": [],
   "source": [
    "import pandas as pd\n",
    "import spacy"
   ]
  },
  {
   "cell_type": "code",
   "execution_count": 2,
   "metadata": {},
   "outputs": [],
   "source": [
    "db = 'sqlite:////home/dh2019gender/pg-text-7.db'\n",
    "query = 'select * from meta where LCC like \"%PR%\"'\n",
    "df = pd.read_sql(query, db)"
   ]
  },
  {
   "cell_type": "code",
   "execution_count": 3,
   "metadata": {},
   "outputs": [
    {
     "data": {
      "text/plain": [
       "7321"
      ]
     },
     "execution_count": 3,
     "metadata": {},
     "output_type": "execute_result"
    }
   ],
   "source": [
    "len(df)"
   ]
  },
  {
   "cell_type": "code",
   "execution_count": 16,
   "metadata": {},
   "outputs": [
    {
     "data": {
      "text/html": [
       "<div>\n",
       "<style scoped>\n",
       "    .dataframe tbody tr th:only-of-type {\n",
       "        vertical-align: middle;\n",
       "    }\n",
       "\n",
       "    .dataframe tbody tr th {\n",
       "        vertical-align: top;\n",
       "    }\n",
       "\n",
       "    .dataframe thead th {\n",
       "        text-align: right;\n",
       "    }\n",
       "</style>\n",
       "<table border=\"1\" class=\"dataframe\">\n",
       "  <thead>\n",
       "    <tr style=\"text-align: right;\">\n",
       "      <th></th>\n",
       "      <th>title</th>\n",
       "      <th>wp_publication_date</th>\n",
       "      <th>publication_date</th>\n",
       "      <th>gr_pubDate</th>\n",
       "    </tr>\n",
       "  </thead>\n",
       "  <tbody>\n",
       "    <tr>\n",
       "      <th>0</th>\n",
       "      <td>Alice's Adventures in Wonderland</td>\n",
       "      <td>1865-11-26</td>\n",
       "      <td></td>\n",
       "      <td>1865--</td>\n",
       "    </tr>\n",
       "    <tr>\n",
       "      <th>1</th>\n",
       "      <td>Through the Looking-Glass</td>\n",
       "      <td></td>\n",
       "      <td>2015-08-01</td>\n",
       "      <td>1871--</td>\n",
       "    </tr>\n",
       "    <tr>\n",
       "      <th>2</th>\n",
       "      <td>The Hunting of the Snark: An Agony in Eight Fits</td>\n",
       "      <td></td>\n",
       "      <td></td>\n",
       "      <td>2015-8-12</td>\n",
       "    </tr>\n",
       "    <tr>\n",
       "      <th>3</th>\n",
       "      <td>Peter Pan</td>\n",
       "      <td>--10-11</td>\n",
       "      <td></td>\n",
       "      <td></td>\n",
       "    </tr>\n",
       "    <tr>\n",
       "      <th>4</th>\n",
       "      <td>Paradise Lost</td>\n",
       "      <td></td>\n",
       "      <td></td>\n",
       "      <td>1667--</td>\n",
       "    </tr>\n",
       "    <tr>\n",
       "      <th>5</th>\n",
       "      <td>Paradise Lost</td>\n",
       "      <td></td>\n",
       "      <td></td>\n",
       "      <td>1667--</td>\n",
       "    </tr>\n",
       "    <tr>\n",
       "      <th>6</th>\n",
       "      <td>Far from the Madding Crowd</td>\n",
       "      <td></td>\n",
       "      <td></td>\n",
       "      <td>1874--</td>\n",
       "    </tr>\n",
       "    <tr>\n",
       "      <th>7</th>\n",
       "      <td>The Time Machine</td>\n",
       "      <td></td>\n",
       "      <td>2015-08-01</td>\n",
       "      <td></td>\n",
       "    </tr>\n",
       "    <tr>\n",
       "      <th>8</th>\n",
       "      <td>The War of the Worlds</td>\n",
       "      <td></td>\n",
       "      <td>2015-08-01</td>\n",
       "      <td></td>\n",
       "    </tr>\n",
       "    <tr>\n",
       "      <th>9</th>\n",
       "      <td>The Strange Case of Dr. Jekyll and Mr. Hyde</td>\n",
       "      <td></td>\n",
       "      <td>2015-08-01</td>\n",
       "      <td>1886-1-5</td>\n",
       "    </tr>\n",
       "  </tbody>\n",
       "</table>\n",
       "</div>"
      ],
      "text/plain": [
       "                                              title wp_publication_date  \\\n",
       "0                  Alice's Adventures in Wonderland          1865-11-26   \n",
       "1                         Through the Looking-Glass                       \n",
       "2  The Hunting of the Snark: An Agony in Eight Fits                       \n",
       "3                                         Peter Pan             --10-11   \n",
       "4                                     Paradise Lost                       \n",
       "5                                     Paradise Lost                       \n",
       "6                        Far from the Madding Crowd                       \n",
       "7                                  The Time Machine                       \n",
       "8                             The War of the Worlds                       \n",
       "9       The Strange Case of Dr. Jekyll and Mr. Hyde                       \n",
       "\n",
       "  publication_date gr_pubDate  \n",
       "0                      1865--  \n",
       "1       2015-08-01     1871--  \n",
       "2                   2015-8-12  \n",
       "3                              \n",
       "4                      1667--  \n",
       "5                      1667--  \n",
       "6                      1874--  \n",
       "7       2015-08-01             \n",
       "8       2015-08-01             \n",
       "9       2015-08-01   1886-1-5  "
      ]
     },
     "execution_count": 16,
     "metadata": {},
     "output_type": "execute_result"
    }
   ],
   "source": [
    "df.head(10)[['title', 'wp_publication_date', 'publication_date', 'gr_pubDate']]"
   ]
  },
  {
   "cell_type": "code",
   "execution_count": 13,
   "metadata": {},
   "outputs": [
    {
     "data": {
      "text/plain": [
       "Index(['', 'LCC', 'author', 'authoryearofbirth', 'authoryearofdeath',\n",
       "       'downloads', 'formats', 'id', 'languages', 'lcsh', 'title', 'type',\n",
       "       '_repo', '_version', 'alternative_title', 'contributor', 'covers',\n",
       "       'creator', 'description', 'edition_identifiers', 'edition_note',\n",
       "       'gutenberg_bookshelf', 'gutenberg_issued', 'gutenberg_type',\n",
       "       'identifiers', 'jmdate', 'subjects', 'language_note', 'production_note',\n",
       "       'publication_date', 'publication_note', 'publisher', 'rights',\n",
       "       'rights_url', 'series_note', 'summary', 'tableOfContents',\n",
       "       'titlepage_image', 'url', 'wikipedia', 'filename', 'releaseDate',\n",
       "       'wp_publication_date', 'wp_subjects', 'wp_info', 'wp_literary_genres',\n",
       "       'gr_rating', 'gr_numReviews', 'gr_pubDate', 'gr_id', 'gr_info',\n",
       "       'gr_author_id', 'gr_image_url', 'gr_small_image_url', 'am_title',\n",
       "       'am_author', 'am_cat', 'am_cat_ancestors', 'am_genre',\n",
       "       'am_editorial_reviews', 'am_sales_rank', 'am_isbn', 'vector',\n",
       "       'vectorNorm', 'vecType', 'vectorType'],\n",
       "      dtype='object')"
      ]
     },
     "execution_count": 13,
     "metadata": {},
     "output_type": "execute_result"
    }
   ],
   "source": [
    "df.columns"
   ]
  },
  {
   "cell_type": "code",
   "execution_count": null,
   "metadata": {},
   "outputs": [],
   "source": []
  }
 ],
 "metadata": {
  "kernelspec": {
   "display_name": "Python 3",
   "language": "python",
   "name": "python3"
  },
  "language_info": {
   "codemirror_mode": {
    "name": "ipython",
    "version": 3
   },
   "file_extension": ".py",
   "mimetype": "text/x-python",
   "name": "python",
   "nbconvert_exporter": "python",
   "pygments_lexer": "ipython3",
   "version": "3.6.6"
  }
 },
 "nbformat": 4,
 "nbformat_minor": 2
}
